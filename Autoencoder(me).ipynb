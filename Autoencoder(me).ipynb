{
 "cells": [
  {
   "cell_type": "code",
   "execution_count": 1,
   "metadata": {
    "executionInfo": {
     "elapsed": 1499,
     "status": "ok",
     "timestamp": 1685996524145,
     "user": {
      "displayName": "moamen saber",
      "userId": "00548250708183683486"
     },
     "user_tz": -180
    },
    "id": "Xpo9QsQuk9V6"
   },
   "outputs": [],
   "source": [
    "import numpy as np\n",
    "import pandas as pd\n",
    "import matplotlib.pyplot as plt\n",
    "import seaborn as sns \n",
    "import warnings\n",
    "warnings.filterwarnings(\"ignore\")\n"
   ]
  },
  {
   "cell_type": "code",
   "execution_count": 2,
   "metadata": {
    "executionInfo": {
     "elapsed": 10007,
     "status": "ok",
     "timestamp": 1685996534145,
     "user": {
      "displayName": "moamen saber",
      "userId": "00548250708183683486"
     },
     "user_tz": -180
    },
    "id": "wCT2sCT_k-3h"
   },
   "outputs": [],
   "source": [
    "import tensorflow as tf \n",
    "from tensorflow import keras"
   ]
  },
  {
   "cell_type": "code",
   "execution_count": 3,
   "metadata": {
    "executionInfo": {
     "elapsed": 414,
     "status": "ok",
     "timestamp": 1685996534553,
     "user": {
      "displayName": "moamen saber",
      "userId": "00548250708183683486"
     },
     "user_tz": -180
    },
    "id": "0ewiLF8vleY7"
   },
   "outputs": [],
   "source": [
    "(X_train, y_train), (X_test, y_test) = tf.keras.datasets.mnist.load_data()"
   ]
  },
  {
   "cell_type": "code",
   "execution_count": 4,
   "metadata": {
    "executionInfo": {
     "elapsed": 743,
     "status": "ok",
     "timestamp": 1685996535290,
     "user": {
      "displayName": "moamen saber",
      "userId": "00548250708183683486"
     },
     "user_tz": -180
    },
    "id": "Siyk0dpNp1Qy"
   },
   "outputs": [],
   "source": [
    "X_train = X_train/255 \n",
    "X_test = X_test/255"
   ]
  },
  {
   "cell_type": "code",
   "execution_count": 5,
   "metadata": {
    "colab": {
     "base_uri": "https://localhost:8080/"
    },
    "executionInfo": {
     "elapsed": 11,
     "status": "ok",
     "timestamp": 1685996535290,
     "user": {
      "displayName": "moamen saber",
      "userId": "00548250708183683486"
     },
     "user_tz": -180
    },
    "id": "F0Bu9oqBltjf",
    "outputId": "5c4bc3cb-d970-4090-8e15-5ec5da9c5254"
   },
   "outputs": [
    {
     "data": {
      "text/plain": [
       "((60000, 28, 28), (60000,))"
      ]
     },
     "execution_count": 5,
     "metadata": {},
     "output_type": "execute_result"
    }
   ],
   "source": [
    "X_train.shape , y_train.shape"
   ]
  },
  {
   "cell_type": "code",
   "execution_count": 6,
   "metadata": {
    "colab": {
     "base_uri": "https://localhost:8080/"
    },
    "executionInfo": {
     "elapsed": 11,
     "status": "ok",
     "timestamp": 1685996535292,
     "user": {
      "displayName": "moamen saber",
      "userId": "00548250708183683486"
     },
     "user_tz": -180
    },
    "id": "PUEo_saflx1Y",
    "outputId": "31e96589-c674-4fc4-a78f-a4935915b70d"
   },
   "outputs": [
    {
     "data": {
      "text/plain": [
       "(28, 28)"
      ]
     },
     "execution_count": 6,
     "metadata": {},
     "output_type": "execute_result"
    }
   ],
   "source": [
    "X_train[0].shape #first pic "
   ]
  },
  {
   "cell_type": "code",
   "execution_count": 7,
   "metadata": {
    "colab": {
     "base_uri": "https://localhost:8080/",
     "height": 430
    },
    "executionInfo": {
     "elapsed": 286,
     "status": "ok",
     "timestamp": 1685996535571,
     "user": {
      "displayName": "moamen saber",
      "userId": "00548250708183683486"
     },
     "user_tz": -180
    },
    "id": "EabFx712l2B2",
    "outputId": "bbeb8532-fcd7-4605-c936-cefabfb8a462"
   },
   "outputs": [
    {
     "data": {
      "image/png": "[encoded data removed]",
      "text/plain": [
       "<Figure size 640x480 with 1 Axes>"
      ]
     },
     "metadata": {},
     "output_type": "display_data"
    }
   ],
   "source": [
    "plt.imshow(X_train[5] , cmap='binary')\n",
    "plt.show()"
   ]
  },
  {
   "cell_type": "code",
   "execution_count": 8,
   "metadata": {
    "colab": {
     "base_uri": "https://localhost:8080/",
     "height": 433
    },
    "executionInfo": {
     "elapsed": 2124,
     "status": "ok",
     "timestamp": 1685996537689,
     "user": {
      "displayName": "moamen saber",
      "userId": "00548250708183683486"
     },
     "user_tz": -180
    },
    "id": "2Wq9NxY3l5RX",
    "outputId": "5cd547cf-504b-4451-9e5a-1cb215531a4d"
   },
   "outputs": [
    {
     "data": {
      "image/png": "[encoded data removed]",
      "text/plain": [
       "<Figure size 640x480 with 9 Axes>"
      ]
     },
     "metadata": {},
     "output_type": "display_data"
    }
   ],
   "source": [
    "for i in range (9):\n",
    "  plt.subplot(3 ,3 , i+1) \n",
    "  plt.imshow(X_train[i] , cmap='binary')\n",
    "plt.show()"
   ]
  },
  {
   "cell_type": "code",
   "execution_count": 9,
   "metadata": {
    "executionInfo": {
     "elapsed": 10,
     "status": "ok",
     "timestamp": 1685996537691,
     "user": {
      "displayName": "moamen saber",
      "userId": "00548250708183683486"
     },
     "user_tz": -180
    },
    "id": "h65gQlsnl-mB"
   },
   "outputs": [],
   "source": [
    "def reset_graph(seed=41):\n",
    "    tf.random.set_seed(seed)\n",
    "    np.random.seed(seed)"
   ]
  },
  {
   "cell_type": "code",
   "execution_count": 9,
   "metadata": {
    "executionInfo": {
     "elapsed": 10,
     "status": "ok",
     "timestamp": 1685996537693,
     "user": {
      "displayName": "moamen saber",
      "userId": "00548250708183683486"
     },
     "user_tz": -180
    },
    "id": "oDGJzAnkmD14"
   },
   "outputs": [],
   "source": []
  },
  {
   "cell_type": "code",
   "execution_count": 10,
   "metadata": {
    "executionInfo": {
     "elapsed": 436,
     "status": "ok",
     "timestamp": 1685996538120,
     "user": {
      "displayName": "moamen saber",
      "userId": "00548250708183683486"
     },
     "user_tz": -180
    },
    "id": "KiScHCQMmG4e"
   },
   "outputs": [],
   "source": [
    "encoding_dim = 32  \n",
    "\n",
    "reset_graph()\n",
    "\n",
    "encoded = tf.keras.models.Sequential()\n",
    "encoded.add(tf.keras.layers.Flatten(input_shape=(28,28)))\n",
    "\n",
    "encoded.add(tf.keras.layers.Dense(512 , activation='relu'))\n",
    "encoded.add(tf.keras.layers.Dense(128 , activation='relu'))\n",
    "encoded.add(tf.keras.layers.Dense(64 , activation='relu'))\n",
    "\n",
    "\n",
    "encoded.add(tf.keras.layers.Dense(encoding_dim, activation='sigmoid'))\n"
   ]
  },
  {
   "cell_type": "code",
   "execution_count": 11,
   "metadata": {
    "executionInfo": {
     "elapsed": 8,
     "status": "ok",
     "timestamp": 1685996538121,
     "user": {
      "displayName": "moamen saber",
      "userId": "00548250708183683486"
     },
     "user_tz": -180
    },
    "id": "KGD1o2fGpEqG"
   },
   "outputs": [],
   "source": [
    "decoded = tf.keras.models.Sequential()\n",
    "\n",
    "decoded.add(tf.keras.layers.Dense(64 , input_shape=(encoding_dim , )))\n",
    "\n",
    "decoded.add(tf.keras.layers.Dense(128 , activation='relu'))\n",
    "decoded.add(tf.keras.layers.Dense(512 , activation='relu'))\n",
    "decoded.add(tf.keras.layers.Dense(784, activation='sigmoid'))\n",
    "\n",
    "decoded.add(tf.keras.layers.Reshape((28,28)))\n"
   ]
  },
  {
   "cell_type": "code",
   "execution_count": 12,
   "metadata": {
    "executionInfo": {
     "elapsed": 457,
     "status": "ok",
     "timestamp": 1685996538573,
     "user": {
      "displayName": "moamen saber",
      "userId": "00548250708183683486"
     },
     "user_tz": -180
    },
    "id": "egUqRwy6xuXO"
   },
   "outputs": [],
   "source": [
    "img  = tf.keras.layers.Input(shape=(28,28))\n",
    "encoding_vector = encoded(img)\n",
    "output = decoded(encoding_vector)\n",
    "model = tf.keras.models.Model(inputs= img , outputs = output)"
   ]
  },
  {
   "cell_type": "code",
   "execution_count": 12,
   "metadata": {
    "executionInfo": {
     "elapsed": 19,
     "status": "ok",
     "timestamp": 1685996538575,
     "user": {
      "displayName": "moamen saber",
      "userId": "00548250708183683486"
     },
     "user_tz": -180
    },
    "id": "8PFJ3UhwuMO5"
   },
   "outputs": [],
   "source": []
  },
  {
   "cell_type": "code",
   "execution_count": 13,
   "metadata": {
    "colab": {
     "base_uri": "https://localhost:8080/"
    },
    "executionInfo": {
     "elapsed": 21,
     "status": "ok",
     "timestamp": 1685996538578,
     "user": {
      "displayName": "moamen saber",
      "userId": "00548250708183683486"
     },
     "user_tz": -180
    },
    "id": "Q5ooJSXhueI4",
    "outputId": "b7aa9a20-05f1-4829-b218-f8fb6d45ec97"
   },
   "outputs": [
    {
     "data": {
      "text/plain": [
       "(None, 28, 28)"
      ]
     },
     "execution_count": 13,
     "metadata": {},
     "output_type": "execute_result"
    }
   ],
   "source": [
    "model.output_shape"
   ]
  },
  {
   "cell_type": "code",
   "execution_count": 14,
   "metadata": {
    "colab": {
     "base_uri": "https://localhost:8080/"
    },
    "executionInfo": {
     "elapsed": 20,
     "status": "ok",
     "timestamp": 1685996538580,
     "user": {
      "displayName": "moamen saber",
      "userId": "00548250708183683486"
     },
     "user_tz": -180
    },
    "id": "OeL9KpK5upgm",
    "outputId": "8dcb06b1-c43b-4283-eced-7975dad66642"
   },
   "outputs": [
    {
     "name": "stdout",
     "output_type": "stream",
     "text": [
      "Model: \"model\"\n",
      "_________________________________________________________________\n",
      " Layer (type)                Output Shape              Param #   \n",
      "=================================================================\n",
      " input_1 (InputLayer)        [(None, 28, 28)]          0         \n",
      "                                                                 \n",
      " sequential (Sequential)     (None, 32)                477920    \n",
      "                                                                 \n",
      " sequential_1 (Sequential)   (None, 28, 28)            478672    \n",
      "                                                                 \n",
      "=================================================================\n",
      "Total params: 956,592\n",
      "Trainable params: 956,592\n",
      "Non-trainable params: 0\n",
      "_________________________________________________________________\n"
     ]
    }
   ],
   "source": [
    "model.summary()"
   ]
  },
  {
   "cell_type": "code",
   "execution_count": 15,
   "metadata": {
    "executionInfo": {
     "elapsed": 13,
     "status": "ok",
     "timestamp": 1685996538581,
     "user": {
      "displayName": "moamen saber",
      "userId": "00548250708183683486"
     },
     "user_tz": -180
    },
    "id": "FFbNSsXpur0l"
   },
   "outputs": [],
   "source": [
    "reset_graph()\n",
    "model.compile(loss='binary_crossentropy' , optimizer='adam'  , metrics=['accuracy'])\n"
   ]
  },
  {
   "cell_type": "code",
   "execution_count": 17,
   "metadata": {
    "colab": {
     "base_uri": "https://localhost:8080/"
    },
    "executionInfo": {
     "elapsed": 143340,
     "status": "ok",
     "timestamp": 1685996774178,
     "user": {
      "displayName": "moamen saber",
      "userId": "00548250708183683486"
     },
     "user_tz": -180
    },
    "id": "g8fBz_nEu4KK",
    "outputId": "89afa534-5902-4a83-8105-5aec238c7e40"
   },
   "outputs": [
    {
     "name": "stdout",
     "output_type": "stream",
     "text": [
      "Epoch 1/5\n",
      "750/750 [==============================] - 20s 26ms/step - loss: 0.1447 - accuracy: 0.2077 - val_loss: 0.1358 - val_accuracy: 0.2271\n",
      "Epoch 2/5\n",
      "750/750 [==============================] - 18s 23ms/step - loss: 0.1279 - accuracy: 0.2314 - val_loss: 0.1225 - val_accuracy: 0.2451\n",
      "Epoch 3/5\n",
      "750/750 [==============================] - 19s 25ms/step - loss: 0.1186 - accuracy: 0.2442 - val_loss: 0.1159 - val_accuracy: 0.2551\n",
      "Epoch 4/5\n",
      "750/750 [==============================] - 18s 24ms/step - loss: 0.1129 - accuracy: 0.2529 - val_loss: 0.1119 - val_accuracy: 0.2685\n",
      "Epoch 5/5\n",
      "750/750 [==============================] - 20s 27ms/step - loss: 0.1091 - accuracy: 0.2607 - val_loss: 0.1084 - val_accuracy: 0.2708\n"
     ]
    },
    {
     "data": {
      "text/plain": [
       "<keras.callbacks.History at 0x7f50ef18b160>"
      ]
     },
     "execution_count": 17,
     "metadata": {},
     "output_type": "execute_result"
    }
   ],
   "source": [
    "reset_graph()\n",
    "model.fit(X_train ,X_train, batch_size=64 , epochs= 5  , validation_split=0.2)"
   ]
  },
  {
   "cell_type": "code",
   "execution_count": 16,
   "metadata": {
    "executionInfo": {
     "elapsed": 30,
     "status": "ok",
     "timestamp": 1685996587276,
     "user": {
      "displayName": "moamen saber",
      "userId": "00548250708183683486"
     },
     "user_tz": -180
    },
    "id": "iVPBRgANu9Al"
   },
   "outputs": [],
   "source": []
  }
 ],
 "metadata": {
  "colab": {
   "authorship_tag": "ABX9TyMywEqaC9qAWP/jKd1xj9Wa",
   "provenance": []
  },
  "kernelspec": {
   "display_name": "Python 3 (ipykernel)",
   "language": "python",
   "name": "python3"
  },
  "language_info": {
   "codemirror_mode": {
    "name": "ipython",
    "version": 3
   },
   "file_extension": ".py",
   "mimetype": "text/x-python",
   "name": "python",
   "nbconvert_exporter": "python",
   "pygments_lexer": "ipython3",
   "version": "3.9.13"
  }
 },
 "nbformat": 4,
 "nbformat_minor": 1
}
